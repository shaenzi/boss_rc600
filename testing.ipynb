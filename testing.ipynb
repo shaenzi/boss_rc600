{
 "cells": [
  {
   "cell_type": "code",
   "execution_count": 12,
   "metadata": {},
   "outputs": [],
   "source": [
    "import lxml.etree as ET\n",
    "import os"
   ]
  },
  {
   "cell_type": "code",
   "execution_count": 13,
   "metadata": {},
   "outputs": [],
   "source": [
    "input_folder = \"test_files_input\"\n",
    "output_folder = \"test_files_output\"\n",
    "fns = os.listdir(input_folder)"
   ]
  },
  {
   "cell_type": "code",
   "execution_count": 14,
   "metadata": {},
   "outputs": [
    {
     "ename": "XMLSyntaxError",
     "evalue": "StartTag: invalid element name, line 1535, column 3 (test_files_input/MEMORY001A.RC0, line 1535)",
     "output_type": "error",
     "traceback": [
      "Traceback \u001b[1;36m(most recent call last)\u001b[0m:\n",
      "  File \u001b[0;32mc:\\Users\\sara\\.virtualenvs\\boss_rc600-o7KKmDjV\\lib\\site-packages\\IPython\\core\\interactiveshell.py:3397\u001b[0m in \u001b[0;35mrun_code\u001b[0m\n    exec(code_obj, self.user_global_ns, self.user_ns)\n",
      "  Input \u001b[0;32mIn [14]\u001b[0m in \u001b[0;35m<cell line: 1>\u001b[0m\n    ET.parse(os.path.join(input_folder, fns[0]))\n",
      "  File \u001b[0;32msrc\\lxml\\etree.pyx:3536\u001b[0m in \u001b[0;35mlxml.etree.parse\u001b[0m\n",
      "  File \u001b[0;32msrc\\lxml\\parser.pxi:1876\u001b[0m in \u001b[0;35mlxml.etree._parseDocument\u001b[0m\n",
      "  File \u001b[0;32msrc\\lxml\\parser.pxi:1902\u001b[0m in \u001b[0;35mlxml.etree._parseDocumentFromURL\u001b[0m\n",
      "  File \u001b[0;32msrc\\lxml\\parser.pxi:1805\u001b[0m in \u001b[0;35mlxml.etree._parseDocFromFile\u001b[0m\n",
      "  File \u001b[0;32msrc\\lxml\\parser.pxi:1177\u001b[0m in \u001b[0;35mlxml.etree._BaseParser._parseDocFromFile\u001b[0m\n",
      "  File \u001b[0;32msrc\\lxml\\parser.pxi:615\u001b[0m in \u001b[0;35mlxml.etree._ParserContext._handleParseResultDoc\u001b[0m\n",
      "  File \u001b[0;32msrc\\lxml\\parser.pxi:725\u001b[0m in \u001b[0;35mlxml.etree._handleParseResult\u001b[0m\n",
      "\u001b[1;36m  File \u001b[1;32msrc\\lxml\\parser.pxi:654\u001b[1;36m in \u001b[1;35mlxml.etree._raiseParseError\u001b[1;36m\u001b[0m\n",
      "\u001b[1;36m  File \u001b[1;32mtest_files_input/MEMORY001A.RC0:1535\u001b[1;36m\u001b[0m\n\u001b[1;33m    <0>100</0>\u001b[0m\n\u001b[1;37m    ^\u001b[0m\n\u001b[1;31mXMLSyntaxError\u001b[0m\u001b[1;31m:\u001b[0m StartTag: invalid element name, line 1535, column 3\n"
     ]
    }
   ],
   "source": [
    "ET.parse(os.path.join(input_folder, fns[0]))"
   ]
  },
  {
   "cell_type": "markdown",
   "metadata": {},
   "source": [
    "hmm. so it seems this is not actually valid xml and if I want to deal with it programmatically, I need to treat it as a text file..."
   ]
  },
  {
   "cell_type": "code",
   "execution_count": 15,
   "metadata": {},
   "outputs": [],
   "source": [
    "def read_file(file):\n",
    "    with open(file, 'r') as reader:\n",
    "        # Note: readlines doesn't trim the line endings\n",
    "        all_data = reader.readlines()\n",
    "    return all_data"
   ]
  },
  {
   "cell_type": "code",
   "execution_count": 16,
   "metadata": {},
   "outputs": [],
   "source": [
    "def write_B_file(data, file):\n",
    "    with open(file, 'w') as writer:\n",
    "        for line in data:\n",
    "            # deal with counter at the end\n",
    "            if \"count\" in line:\n",
    "                start_index_nr = line.find(\">\") + 1\n",
    "                end_index_nr = line.find(\"<\", 2)\n",
    "                nr = int(line[start_index_nr:end_index_nr])\n",
    "                new_nr = nr + 1\n",
    "                len_new_nr = len(str(new_nr))\n",
    "                new_count = \"\".join((4-len_new_nr)*[\"0\"]) + str(new_nr)\n",
    "                line = line[:start_index_nr] + new_count + line[end_index_nr:]\n",
    "            \n",
    "            # write the line\n",
    "            writer.write(line)"
   ]
  },
  {
   "cell_type": "code",
   "execution_count": 17,
   "metadata": {},
   "outputs": [],
   "source": [
    "def write_A_file(data, file):\n",
    "    with open(file, 'w') as writer:\n",
    "        flag_rec = False\n",
    "        flag_track = False\n",
    "        for line in data:\n",
    "            # the play to overdub switch\n",
    "            if \"<REC>\" in line:\n",
    "                flag_rec = True\n",
    "            elif \"</REC>\" in line:\n",
    "                flag_rec = False\n",
    "            if flag_rec and \"<A>\" in line:\n",
    "                line = line.replace(\"1\", \"0\")\n",
    "\n",
    "            # the tempo sync switch\n",
    "            if \"<TRACK\" in line:\n",
    "                flag_track = True\n",
    "            elif \"</TRACK\" in line:\n",
    "                flag_track = False\n",
    "            if flag_track and \"<M>\" in line:\n",
    "                line = line.replace(\"1\", \"0\")\n",
    "            \n",
    "            # deal with counter at the end\n",
    "            if \"count\" in line:\n",
    "                start_index_nr = line.find(\">\") + 1\n",
    "                end_index_nr = line.find(\"<\", 2)\n",
    "                nr = int(line[start_index_nr:end_index_nr])\n",
    "                new_nr = nr + 1\n",
    "                len_new_nr = len(str(new_nr))\n",
    "                new_count = \"\".join((4-len_new_nr)*[\"0\"]) + str(new_nr)\n",
    "                line = line[:start_index_nr] + new_count + line[end_index_nr:]\n",
    "\n",
    "            # write the line\n",
    "            writer.write(line)"
   ]
  },
  {
   "cell_type": "markdown",
   "metadata": {},
   "source": [
    "now loop through all the files; always read, then write with appropriate function"
   ]
  },
  {
   "cell_type": "code",
   "execution_count": 18,
   "metadata": {},
   "outputs": [],
   "source": [
    "for fn in fns:\n",
    "    data = read_file(os.path.join(input_folder, fn))\n",
    "    if \"A.RC0\" in fn:\n",
    "        write_A_file(data, os.path.join(output_folder, fn))\n",
    "    elif \"B.RC0\" in fn:\n",
    "        write_B_file(data, os.path.join(output_folder, fn))"
   ]
  },
  {
   "cell_type": "markdown",
   "metadata": {},
   "source": [
    "code seems to be doing what it should but the looper does not recongnise the changes :-/ not sure what I am doing wrong..."
   ]
  },
  {
   "cell_type": "markdown",
   "metadata": {},
   "source": []
  }
 ],
 "metadata": {
  "interpreter": {
   "hash": "3af00147a6dc7a8834dbce251a3d3092c03b81eee87381ba138ea636a9db9df4"
  },
  "kernelspec": {
   "display_name": "Python 3.10.4 ('boss_rc600-o7KKmDjV')",
   "language": "python",
   "name": "python3"
  },
  "language_info": {
   "codemirror_mode": {
    "name": "ipython",
    "version": 3
   },
   "file_extension": ".py",
   "mimetype": "text/x-python",
   "name": "python",
   "nbconvert_exporter": "python",
   "pygments_lexer": "ipython3",
   "version": "3.10.4"
  },
  "orig_nbformat": 4
 },
 "nbformat": 4,
 "nbformat_minor": 2
}
